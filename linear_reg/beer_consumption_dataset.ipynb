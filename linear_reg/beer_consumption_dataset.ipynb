{
 "cells": [
  {
   "cell_type": "code",
   "execution_count": 2,
   "metadata": {},
   "outputs": [],
   "source": [
    "import pandas as pd\n",
    "import numpy as np\n",
    "import matplotlib.pyplot as plt\n",
    "%matplotlib inline\n",
    "import seaborn as sns"
   ]
  },
  {
   "cell_type": "code",
   "execution_count": 4,
   "metadata": {},
   "outputs": [
    {
     "name": "stdout",
     "output_type": "stream",
     "text": [
      "           Data  Temperatura Media (C)  Temperatura Minima (C)  \\\n",
      "0    01-01-2015                  27.30                    23.9   \n",
      "1    02-01-2015                  27.02                    24.5   \n",
      "2    03-01-2015                  24.82                    22.4   \n",
      "3    04-01-2015                  23.98                    21.5   \n",
      "4    05-01-2015                  23.82                    21.0   \n",
      "5    06-01-2015                  23.78                    20.1   \n",
      "6    07-01-2015                  24.00                    19.5   \n",
      "7    08-01-2015                  24.90                    19.5   \n",
      "8    09-01-2015                  28.20                    21.9   \n",
      "9    10-01-2015                  26.76                    22.1   \n",
      "10   11-01-2015                  27.62                    22.2   \n",
      "11   12-01-2015                  25.96                    21.4   \n",
      "12   13-01-2015                  25.52                    21.2   \n",
      "13   14-01-2015                  25.96                    21.3   \n",
      "14   15-01-2015                  25.86                    21.5   \n",
      "15   16-01-2015                  26.50                    22.3   \n",
      "16   17-01-2015                  28.86                    22.0   \n",
      "17   18-01-2015                  28.26                    23.4   \n",
      "18   19-01-2015                  28.22                    22.7   \n",
      "19   20-01-2015                  27.68                    23.3   \n",
      "20   21-01-2015                  25.32                    22.7   \n",
      "21   22-01-2015                  21.74                    19.2   \n",
      "22   23-01-2015                  21.04                    18.5   \n",
      "23   24-01-2015                  23.12                    19.0   \n",
      "24   25-01-2015                  24.40                    18.1   \n",
      "25   26-01-2015                  22.40                    18.9   \n",
      "26   27-01-2015                  23.60                    20.5   \n",
      "27   28-01-2015                  25.68                    20.1   \n",
      "28   29-01-2015                  25.00                    21.5   \n",
      "29   30-01-2015                  22.80                    20.9   \n",
      "..          ...                    ...                     ...   \n",
      "335  02-12-2015                  22.10                    18.2   \n",
      "336  03-12-2015                  22.44                    20.2   \n",
      "337  04-12-2015                  22.76                    19.0   \n",
      "338  05-12-2015                  24.80                    19.5   \n",
      "339  06-12-2015                  23.12                    20.6   \n",
      "340  07-12-2015                  20.04                    18.0   \n",
      "341  08-12-2015                  21.70                    18.0   \n",
      "342  09-12-2015                  23.96                    19.6   \n",
      "343  10-12-2015                  24.00                    22.2   \n",
      "344  11-12-2015                  24.04                    20.7   \n",
      "345  12-12-2015                  23.92                    20.6   \n",
      "346  13-12-2015                  24.54                    19.3   \n",
      "347  14-12-2015                  26.28                    21.1   \n",
      "348  15-12-2015                  25.66                    20.6   \n",
      "349  16-12-2015                  22.04                    20.7   \n",
      "350  17-12-2015                  23.32                    18.9   \n",
      "351  18-12-2015                  26.42                    19.6   \n",
      "352  19-12-2015                  23.74                    19.8   \n",
      "353  20-12-2015                  22.84                    19.6   \n",
      "354  21-12-2015                  23.12                    19.6   \n",
      "355  22-12-2015                  24.60                    19.6   \n",
      "356  23-12-2015                  27.46                    22.1   \n",
      "357  24-12-2015                  24.72                    20.5   \n",
      "358  25-12-2015                  23.58                    17.8   \n",
      "359  26-12-2015                  23.34                    17.8   \n",
      "360  27-12-2015                  24.00                    21.1   \n",
      "361  28-12-2015                  22.64                    21.1   \n",
      "362  29-12-2015                  21.68                    20.3   \n",
      "363  30-12-2015                  21.38                    19.3   \n",
      "364  31-12-2015                  24.76                    20.2   \n",
      "\n",
      "     Temperatura Maxima (C)  Precipitacao (mm)  Final de Semana  \\\n",
      "0                      32.5                0.0                0   \n",
      "1                      33.5                0.0                0   \n",
      "2                      29.9                0.0                1   \n",
      "3                      28.6                1.2                1   \n",
      "4                      28.3                0.0                0   \n",
      "5                      30.5               12.2                0   \n",
      "6                      33.7                0.0                0   \n",
      "7                      32.8               48.6                0   \n",
      "8                      34.0                4.4                0   \n",
      "9                      34.2                0.0                1   \n",
      "10                     34.8                3.4                1   \n",
      "11                     35.4                0.0                0   \n",
      "12                     34.8                0.8                0   \n",
      "13                     34.0                1.6                0   \n",
      "14                     32.8                3.0                0   \n",
      "15                     32.7                2.0                0   \n",
      "16                     35.8                0.0                1   \n",
      "17                     35.6                0.0                1   \n",
      "18                     36.5                3.7                0   \n",
      "19                     35.6                0.6                0   \n",
      "20                     30.9                0.0                0   \n",
      "21                     26.1               31.0                0   \n",
      "22                     26.1                3.6                0   \n",
      "23                     29.4               13.0                1   \n",
      "24                     30.0                0.0                1   \n",
      "25                     28.7               20.8                0   \n",
      "26                     28.7                1.2                0   \n",
      "27                     29.9                4.9                0   \n",
      "28                     29.2                0.0                0   \n",
      "29                     26.9                0.0                0   \n",
      "..                      ...                ...              ...   \n",
      "335                    29.4                0.0                0   \n",
      "336                    26.1                0.0                0   \n",
      "337                    29.1                0.0                0   \n",
      "338                    30.6                0.1                1   \n",
      "339                    28.0                0.1                1   \n",
      "340                    23.9               47.8                0   \n",
      "341                    28.0                0.0                0   \n",
      "342                    27.9                0.0                0   \n",
      "343                    27.7                0.0                0   \n",
      "344                    30.3                0.0                0   \n",
      "345                    30.8                0.0                1   \n",
      "346                    31.0               12.2                1   \n",
      "347                    32.5                2.0                0   \n",
      "348                    32.8                4.0                0   \n",
      "349                    24.8                1.5                0   \n",
      "350                    28.7                0.0                0   \n",
      "351                    33.5                0.1                0   \n",
      "352                    31.3                1.3                1   \n",
      "353                    29.0                8.4                1   \n",
      "354                    29.1               27.2                0   \n",
      "355                    32.4               43.0                0   \n",
      "356                    32.4                3.0                0   \n",
      "357                    31.5                3.4                0   \n",
      "358                    31.0               39.0                0   \n",
      "359                    29.8               94.8                1   \n",
      "360                    28.2               13.6                1   \n",
      "361                    26.7                0.0                0   \n",
      "362                    24.1               10.3                0   \n",
      "363                    22.4                6.3                0   \n",
      "364                    29.0                0.0                0   \n",
      "\n",
      "    Consumo de cerveja (litros)  \n",
      "0                        25.461  \n",
      "1                        28.972  \n",
      "2                        30.814  \n",
      "3                        29.799  \n",
      "4                          28.9  \n",
      "5                        28.218  \n",
      "6                        29.732  \n",
      "7                        28.397  \n",
      "8                        24.886  \n",
      "9                        37.937  \n",
      "10                       36.254  \n",
      "11                       25.743  \n",
      "12                        26.99  \n",
      "13                       31.825  \n",
      "14                       25.724  \n",
      "15                       29.938  \n",
      "16                        37.69  \n",
      "17                       30.524  \n",
      "18                       29.265  \n",
      "19                       35.127  \n",
      "20                        29.13  \n",
      "21                       25.795  \n",
      "22                       21.784  \n",
      "23                       28.348  \n",
      "24                       31.088  \n",
      "25                        21.52  \n",
      "26                       29.972  \n",
      "27                       22.603  \n",
      "28                       22.696  \n",
      "29                       26.845  \n",
      "..                          ...  \n",
      "335                      30.471  \n",
      "336                      28.405  \n",
      "337                      29.513  \n",
      "338                      32.451  \n",
      "339                       32.78  \n",
      "340                      23.375  \n",
      "341                      27.713  \n",
      "342                      27.137  \n",
      "343                      22.933  \n",
      "344                       30.74  \n",
      "345                      29.579  \n",
      "346                      29.188  \n",
      "347                      28.131  \n",
      "348                      28.617  \n",
      "349                      21.062  \n",
      "350                      24.337  \n",
      "351                      27.042  \n",
      "352                      32.536  \n",
      "353                      30.127  \n",
      "354                      24.834  \n",
      "355                      26.828  \n",
      "356                      26.468  \n",
      "357                      31.572  \n",
      "358                      26.308  \n",
      "359                      21.955  \n",
      "360                      32.307  \n",
      "361                      26.095  \n",
      "362                      22.309  \n",
      "363                      20.467  \n",
      "364                      22.446  \n",
      "\n",
      "[365 rows x 7 columns]\n"
     ]
    }
   ],
   "source": [
    "dataset = pd.read_csv(\"/home/negi/M_L/m.r_negi_ML_self/Linear_regression/beer_consumption.csv\", decimal = \",\")\n",
    "print(dataset)"
   ]
  },
  {
   "cell_type": "code",
   "execution_count": 5,
   "metadata": {},
   "outputs": [
    {
     "data": {
      "text/html": [
       "<div>\n",
       "<style scoped>\n",
       "    .dataframe tbody tr th:only-of-type {\n",
       "        vertical-align: middle;\n",
       "    }\n",
       "\n",
       "    .dataframe tbody tr th {\n",
       "        vertical-align: top;\n",
       "    }\n",
       "\n",
       "    .dataframe thead th {\n",
       "        text-align: right;\n",
       "    }\n",
       "</style>\n",
       "<table border=\"1\" class=\"dataframe\">\n",
       "  <thead>\n",
       "    <tr style=\"text-align: right;\">\n",
       "      <th></th>\n",
       "      <th>Data</th>\n",
       "      <th>Temperatura Media (C)</th>\n",
       "      <th>Temperatura Minima (C)</th>\n",
       "      <th>Temperatura Maxima (C)</th>\n",
       "      <th>Precipitacao (mm)</th>\n",
       "      <th>Final de Semana</th>\n",
       "      <th>Consumo de cerveja (litros)</th>\n",
       "    </tr>\n",
       "  </thead>\n",
       "  <tbody>\n",
       "    <tr>\n",
       "      <th>0</th>\n",
       "      <td>01-01-2015</td>\n",
       "      <td>27.30</td>\n",
       "      <td>23.9</td>\n",
       "      <td>32.5</td>\n",
       "      <td>0.0</td>\n",
       "      <td>0</td>\n",
       "      <td>25.461</td>\n",
       "    </tr>\n",
       "    <tr>\n",
       "      <th>1</th>\n",
       "      <td>02-01-2015</td>\n",
       "      <td>27.02</td>\n",
       "      <td>24.5</td>\n",
       "      <td>33.5</td>\n",
       "      <td>0.0</td>\n",
       "      <td>0</td>\n",
       "      <td>28.972</td>\n",
       "    </tr>\n",
       "    <tr>\n",
       "      <th>2</th>\n",
       "      <td>03-01-2015</td>\n",
       "      <td>24.82</td>\n",
       "      <td>22.4</td>\n",
       "      <td>29.9</td>\n",
       "      <td>0.0</td>\n",
       "      <td>1</td>\n",
       "      <td>30.814</td>\n",
       "    </tr>\n",
       "    <tr>\n",
       "      <th>3</th>\n",
       "      <td>04-01-2015</td>\n",
       "      <td>23.98</td>\n",
       "      <td>21.5</td>\n",
       "      <td>28.6</td>\n",
       "      <td>1.2</td>\n",
       "      <td>1</td>\n",
       "      <td>29.799</td>\n",
       "    </tr>\n",
       "    <tr>\n",
       "      <th>4</th>\n",
       "      <td>05-01-2015</td>\n",
       "      <td>23.82</td>\n",
       "      <td>21.0</td>\n",
       "      <td>28.3</td>\n",
       "      <td>0.0</td>\n",
       "      <td>0</td>\n",
       "      <td>28.9</td>\n",
       "    </tr>\n",
       "  </tbody>\n",
       "</table>\n",
       "</div>"
      ],
      "text/plain": [
       "         Data  Temperatura Media (C)  Temperatura Minima (C)  \\\n",
       "0  01-01-2015                  27.30                    23.9   \n",
       "1  02-01-2015                  27.02                    24.5   \n",
       "2  03-01-2015                  24.82                    22.4   \n",
       "3  04-01-2015                  23.98                    21.5   \n",
       "4  05-01-2015                  23.82                    21.0   \n",
       "\n",
       "   Temperatura Maxima (C)  Precipitacao (mm)  Final de Semana  \\\n",
       "0                    32.5                0.0                0   \n",
       "1                    33.5                0.0                0   \n",
       "2                    29.9                0.0                1   \n",
       "3                    28.6                1.2                1   \n",
       "4                    28.3                0.0                0   \n",
       "\n",
       "  Consumo de cerveja (litros)  \n",
       "0                      25.461  \n",
       "1                      28.972  \n",
       "2                      30.814  \n",
       "3                      29.799  \n",
       "4                        28.9  "
      ]
     },
     "execution_count": 5,
     "metadata": {},
     "output_type": "execute_result"
    }
   ],
   "source": [
    "dataset.head()"
   ]
  },
  {
   "cell_type": "code",
   "execution_count": 6,
   "metadata": {},
   "outputs": [
    {
     "data": {
      "text/plain": [
       "0      01-01-2015\n",
       "1      02-01-2015\n",
       "2      03-01-2015\n",
       "3      04-01-2015\n",
       "4      05-01-2015\n",
       "5      06-01-2015\n",
       "6      07-01-2015\n",
       "7      08-01-2015\n",
       "8      09-01-2015\n",
       "9      10-01-2015\n",
       "10     11-01-2015\n",
       "11     12-01-2015\n",
       "12     13-01-2015\n",
       "13     14-01-2015\n",
       "14     15-01-2015\n",
       "15     16-01-2015\n",
       "16     17-01-2015\n",
       "17     18-01-2015\n",
       "18     19-01-2015\n",
       "19     20-01-2015\n",
       "20     21-01-2015\n",
       "21     22-01-2015\n",
       "22     23-01-2015\n",
       "23     24-01-2015\n",
       "24     25-01-2015\n",
       "25     26-01-2015\n",
       "26     27-01-2015\n",
       "27     28-01-2015\n",
       "28     29-01-2015\n",
       "29     30-01-2015\n",
       "          ...    \n",
       "335    02-12-2015\n",
       "336    03-12-2015\n",
       "337    04-12-2015\n",
       "338    05-12-2015\n",
       "339    06-12-2015\n",
       "340    07-12-2015\n",
       "341    08-12-2015\n",
       "342    09-12-2015\n",
       "343    10-12-2015\n",
       "344    11-12-2015\n",
       "345    12-12-2015\n",
       "346    13-12-2015\n",
       "347    14-12-2015\n",
       "348    15-12-2015\n",
       "349    16-12-2015\n",
       "350    17-12-2015\n",
       "351    18-12-2015\n",
       "352    19-12-2015\n",
       "353    20-12-2015\n",
       "354    21-12-2015\n",
       "355    22-12-2015\n",
       "356    23-12-2015\n",
       "357    24-12-2015\n",
       "358    25-12-2015\n",
       "359    26-12-2015\n",
       "360    27-12-2015\n",
       "361    28-12-2015\n",
       "362    29-12-2015\n",
       "363    30-12-2015\n",
       "364    31-12-2015\n",
       "Name: Data, Length: 365, dtype: object"
      ]
     },
     "execution_count": 6,
     "metadata": {},
     "output_type": "execute_result"
    }
   ],
   "source": [
    "dataset.Data"
   ]
  },
  {
   "cell_type": "code",
   "execution_count": 7,
   "metadata": {},
   "outputs": [
    {
     "data": {
      "text/html": [
       "<div>\n",
       "<style scoped>\n",
       "    .dataframe tbody tr th:only-of-type {\n",
       "        vertical-align: middle;\n",
       "    }\n",
       "\n",
       "    .dataframe tbody tr th {\n",
       "        vertical-align: top;\n",
       "    }\n",
       "\n",
       "    .dataframe thead th {\n",
       "        text-align: right;\n",
       "    }\n",
       "</style>\n",
       "<table border=\"1\" class=\"dataframe\">\n",
       "  <thead>\n",
       "    <tr style=\"text-align: right;\">\n",
       "      <th></th>\n",
       "      <th>Data</th>\n",
       "      <th>Temperatura Media (C)</th>\n",
       "      <th>Temperatura Minima (C)</th>\n",
       "      <th>Temperatura Maxima (C)</th>\n",
       "      <th>Precipitacao (mm)</th>\n",
       "      <th>Final de Semana</th>\n",
       "      <th>Consumo de cerveja (litros)</th>\n",
       "    </tr>\n",
       "  </thead>\n",
       "  <tbody>\n",
       "    <tr>\n",
       "      <th>360</th>\n",
       "      <td>27-12-2015</td>\n",
       "      <td>24.00</td>\n",
       "      <td>21.1</td>\n",
       "      <td>28.2</td>\n",
       "      <td>13.6</td>\n",
       "      <td>1</td>\n",
       "      <td>32.307</td>\n",
       "    </tr>\n",
       "    <tr>\n",
       "      <th>361</th>\n",
       "      <td>28-12-2015</td>\n",
       "      <td>22.64</td>\n",
       "      <td>21.1</td>\n",
       "      <td>26.7</td>\n",
       "      <td>0.0</td>\n",
       "      <td>0</td>\n",
       "      <td>26.095</td>\n",
       "    </tr>\n",
       "    <tr>\n",
       "      <th>362</th>\n",
       "      <td>29-12-2015</td>\n",
       "      <td>21.68</td>\n",
       "      <td>20.3</td>\n",
       "      <td>24.1</td>\n",
       "      <td>10.3</td>\n",
       "      <td>0</td>\n",
       "      <td>22.309</td>\n",
       "    </tr>\n",
       "    <tr>\n",
       "      <th>363</th>\n",
       "      <td>30-12-2015</td>\n",
       "      <td>21.38</td>\n",
       "      <td>19.3</td>\n",
       "      <td>22.4</td>\n",
       "      <td>6.3</td>\n",
       "      <td>0</td>\n",
       "      <td>20.467</td>\n",
       "    </tr>\n",
       "    <tr>\n",
       "      <th>364</th>\n",
       "      <td>31-12-2015</td>\n",
       "      <td>24.76</td>\n",
       "      <td>20.2</td>\n",
       "      <td>29.0</td>\n",
       "      <td>0.0</td>\n",
       "      <td>0</td>\n",
       "      <td>22.446</td>\n",
       "    </tr>\n",
       "  </tbody>\n",
       "</table>\n",
       "</div>"
      ],
      "text/plain": [
       "           Data  Temperatura Media (C)  Temperatura Minima (C)  \\\n",
       "360  27-12-2015                  24.00                    21.1   \n",
       "361  28-12-2015                  22.64                    21.1   \n",
       "362  29-12-2015                  21.68                    20.3   \n",
       "363  30-12-2015                  21.38                    19.3   \n",
       "364  31-12-2015                  24.76                    20.2   \n",
       "\n",
       "     Temperatura Maxima (C)  Precipitacao (mm)  Final de Semana  \\\n",
       "360                    28.2               13.6                1   \n",
       "361                    26.7                0.0                0   \n",
       "362                    24.1               10.3                0   \n",
       "363                    22.4                6.3                0   \n",
       "364                    29.0                0.0                0   \n",
       "\n",
       "    Consumo de cerveja (litros)  \n",
       "360                      32.307  \n",
       "361                      26.095  \n",
       "362                      22.309  \n",
       "363                      20.467  \n",
       "364                      22.446  "
      ]
     },
     "execution_count": 7,
     "metadata": {},
     "output_type": "execute_result"
    }
   ],
   "source": [
    "dataset.tail()"
   ]
  },
  {
   "cell_type": "code",
   "execution_count": 8,
   "metadata": {},
   "outputs": [
    {
     "name": "stdout",
     "output_type": "stream",
     "text": [
      "<class 'pandas.core.frame.DataFrame'>\n",
      "RangeIndex: 365 entries, 0 to 364\n",
      "Data columns (total 7 columns):\n",
      "Data                           365 non-null object\n",
      "Temperatura Media (C)          365 non-null float64\n",
      "Temperatura Minima (C)         365 non-null float64\n",
      "Temperatura Maxima (C)         365 non-null float64\n",
      "Precipitacao (mm)              365 non-null float64\n",
      "Final de Semana                365 non-null int64\n",
      "Consumo de cerveja (litros)    365 non-null object\n",
      "dtypes: float64(4), int64(1), object(2)\n",
      "memory usage: 20.0+ KB\n"
     ]
    }
   ],
   "source": [
    "dataset.info()"
   ]
  },
  {
   "cell_type": "code",
   "execution_count": 9,
   "metadata": {},
   "outputs": [
    {
     "data": {
      "text/html": [
       "<div>\n",
       "<style scoped>\n",
       "    .dataframe tbody tr th:only-of-type {\n",
       "        vertical-align: middle;\n",
       "    }\n",
       "\n",
       "    .dataframe tbody tr th {\n",
       "        vertical-align: top;\n",
       "    }\n",
       "\n",
       "    .dataframe thead th {\n",
       "        text-align: right;\n",
       "    }\n",
       "</style>\n",
       "<table border=\"1\" class=\"dataframe\">\n",
       "  <thead>\n",
       "    <tr style=\"text-align: right;\">\n",
       "      <th></th>\n",
       "      <th>Temperatura Media (C)</th>\n",
       "      <th>Temperatura Minima (C)</th>\n",
       "      <th>Temperatura Maxima (C)</th>\n",
       "      <th>Precipitacao (mm)</th>\n",
       "      <th>Final de Semana</th>\n",
       "    </tr>\n",
       "  </thead>\n",
       "  <tbody>\n",
       "    <tr>\n",
       "      <th>count</th>\n",
       "      <td>365.000000</td>\n",
       "      <td>365.000000</td>\n",
       "      <td>365.000000</td>\n",
       "      <td>365.000000</td>\n",
       "      <td>365.000000</td>\n",
       "    </tr>\n",
       "    <tr>\n",
       "      <th>mean</th>\n",
       "      <td>21.226356</td>\n",
       "      <td>17.461370</td>\n",
       "      <td>26.611507</td>\n",
       "      <td>5.196712</td>\n",
       "      <td>0.284932</td>\n",
       "    </tr>\n",
       "    <tr>\n",
       "      <th>std</th>\n",
       "      <td>3.180108</td>\n",
       "      <td>2.826185</td>\n",
       "      <td>4.317366</td>\n",
       "      <td>12.417844</td>\n",
       "      <td>0.452001</td>\n",
       "    </tr>\n",
       "    <tr>\n",
       "      <th>min</th>\n",
       "      <td>12.900000</td>\n",
       "      <td>10.600000</td>\n",
       "      <td>14.500000</td>\n",
       "      <td>0.000000</td>\n",
       "      <td>0.000000</td>\n",
       "    </tr>\n",
       "    <tr>\n",
       "      <th>25%</th>\n",
       "      <td>19.020000</td>\n",
       "      <td>15.300000</td>\n",
       "      <td>23.800000</td>\n",
       "      <td>0.000000</td>\n",
       "      <td>0.000000</td>\n",
       "    </tr>\n",
       "    <tr>\n",
       "      <th>50%</th>\n",
       "      <td>21.380000</td>\n",
       "      <td>17.900000</td>\n",
       "      <td>26.900000</td>\n",
       "      <td>0.000000</td>\n",
       "      <td>0.000000</td>\n",
       "    </tr>\n",
       "    <tr>\n",
       "      <th>75%</th>\n",
       "      <td>23.280000</td>\n",
       "      <td>19.600000</td>\n",
       "      <td>29.400000</td>\n",
       "      <td>3.200000</td>\n",
       "      <td>1.000000</td>\n",
       "    </tr>\n",
       "    <tr>\n",
       "      <th>max</th>\n",
       "      <td>28.860000</td>\n",
       "      <td>24.500000</td>\n",
       "      <td>36.500000</td>\n",
       "      <td>94.800000</td>\n",
       "      <td>1.000000</td>\n",
       "    </tr>\n",
       "  </tbody>\n",
       "</table>\n",
       "</div>"
      ],
      "text/plain": [
       "       Temperatura Media (C)  Temperatura Minima (C)  Temperatura Maxima (C)  \\\n",
       "count             365.000000              365.000000              365.000000   \n",
       "mean               21.226356               17.461370               26.611507   \n",
       "std                 3.180108                2.826185                4.317366   \n",
       "min                12.900000               10.600000               14.500000   \n",
       "25%                19.020000               15.300000               23.800000   \n",
       "50%                21.380000               17.900000               26.900000   \n",
       "75%                23.280000               19.600000               29.400000   \n",
       "max                28.860000               24.500000               36.500000   \n",
       "\n",
       "       Precipitacao (mm)  Final de Semana  \n",
       "count         365.000000       365.000000  \n",
       "mean            5.196712         0.284932  \n",
       "std            12.417844         0.452001  \n",
       "min             0.000000         0.000000  \n",
       "25%             0.000000         0.000000  \n",
       "50%             0.000000         0.000000  \n",
       "75%             3.200000         1.000000  \n",
       "max            94.800000         1.000000  "
      ]
     },
     "execution_count": 9,
     "metadata": {},
     "output_type": "execute_result"
    }
   ],
   "source": [
    "dataset.describe()"
   ]
  },
  {
   "cell_type": "code",
   "execution_count": 10,
   "metadata": {},
   "outputs": [
    {
     "data": {
      "text/html": [
       "<div>\n",
       "<style scoped>\n",
       "    .dataframe tbody tr th:only-of-type {\n",
       "        vertical-align: middle;\n",
       "    }\n",
       "\n",
       "    .dataframe tbody tr th {\n",
       "        vertical-align: top;\n",
       "    }\n",
       "\n",
       "    .dataframe thead th {\n",
       "        text-align: right;\n",
       "    }\n",
       "</style>\n",
       "<table border=\"1\" class=\"dataframe\">\n",
       "  <thead>\n",
       "    <tr style=\"text-align: right;\">\n",
       "      <th></th>\n",
       "      <th>Data</th>\n",
       "      <th>Temperatura Media (C)</th>\n",
       "      <th>Temperatura Minima (C)</th>\n",
       "      <th>Temperatura Maxima (C)</th>\n",
       "      <th>Precipitacao (mm)</th>\n",
       "      <th>Final de Semana</th>\n",
       "      <th>Consumo de cerveja (litros)</th>\n",
       "    </tr>\n",
       "  </thead>\n",
       "  <tbody>\n",
       "    <tr>\n",
       "      <th>0</th>\n",
       "      <td>01-01-2015</td>\n",
       "      <td>27.30</td>\n",
       "      <td>23.9</td>\n",
       "      <td>32.5</td>\n",
       "      <td>0.0</td>\n",
       "      <td>0</td>\n",
       "      <td>25.461</td>\n",
       "    </tr>\n",
       "    <tr>\n",
       "      <th>1</th>\n",
       "      <td>02-01-2015</td>\n",
       "      <td>27.02</td>\n",
       "      <td>24.5</td>\n",
       "      <td>33.5</td>\n",
       "      <td>0.0</td>\n",
       "      <td>0</td>\n",
       "      <td>28.972</td>\n",
       "    </tr>\n",
       "    <tr>\n",
       "      <th>2</th>\n",
       "      <td>03-01-2015</td>\n",
       "      <td>24.82</td>\n",
       "      <td>22.4</td>\n",
       "      <td>29.9</td>\n",
       "      <td>0.0</td>\n",
       "      <td>1</td>\n",
       "      <td>30.814</td>\n",
       "    </tr>\n",
       "    <tr>\n",
       "      <th>3</th>\n",
       "      <td>04-01-2015</td>\n",
       "      <td>23.98</td>\n",
       "      <td>21.5</td>\n",
       "      <td>28.6</td>\n",
       "      <td>1.2</td>\n",
       "      <td>1</td>\n",
       "      <td>29.799</td>\n",
       "    </tr>\n",
       "    <tr>\n",
       "      <th>4</th>\n",
       "      <td>05-01-2015</td>\n",
       "      <td>23.82</td>\n",
       "      <td>21.0</td>\n",
       "      <td>28.3</td>\n",
       "      <td>0.0</td>\n",
       "      <td>0</td>\n",
       "      <td>28.9</td>\n",
       "    </tr>\n",
       "  </tbody>\n",
       "</table>\n",
       "</div>"
      ],
      "text/plain": [
       "         Data  Temperatura Media (C)  Temperatura Minima (C)  \\\n",
       "0  01-01-2015                  27.30                    23.9   \n",
       "1  02-01-2015                  27.02                    24.5   \n",
       "2  03-01-2015                  24.82                    22.4   \n",
       "3  04-01-2015                  23.98                    21.5   \n",
       "4  05-01-2015                  23.82                    21.0   \n",
       "\n",
       "   Temperatura Maxima (C)  Precipitacao (mm)  Final de Semana  \\\n",
       "0                    32.5                0.0                0   \n",
       "1                    33.5                0.0                0   \n",
       "2                    29.9                0.0                1   \n",
       "3                    28.6                1.2                1   \n",
       "4                    28.3                0.0                0   \n",
       "\n",
       "  Consumo de cerveja (litros)  \n",
       "0                      25.461  \n",
       "1                      28.972  \n",
       "2                      30.814  \n",
       "3                      29.799  \n",
       "4                        28.9  "
      ]
     },
     "execution_count": 10,
     "metadata": {},
     "output_type": "execute_result"
    }
   ],
   "source": [
    "dataset.head()"
   ]
  },
  {
   "cell_type": "code",
   "execution_count": 11,
   "metadata": {},
   "outputs": [
    {
     "data": {
      "text/plain": [
       "Data                            object\n",
       "Temperatura Media (C)          float64\n",
       "Temperatura Minima (C)         float64\n",
       "Temperatura Maxima (C)         float64\n",
       "Precipitacao (mm)              float64\n",
       "Final de Semana                  int64\n",
       "Consumo de cerveja (litros)     object\n",
       "dtype: object"
      ]
     },
     "execution_count": 11,
     "metadata": {},
     "output_type": "execute_result"
    }
   ],
   "source": [
    "dataset.dtypes"
   ]
  },
  {
   "cell_type": "code",
   "execution_count": 12,
   "metadata": {},
   "outputs": [],
   "source": [
    "dataset.columns=[\"date\", \"avgTemp\", \"minTemp\", \"maxTemp\", \"rain\", \"weekend\", \"litres\"]\n"
   ]
  },
  {
   "cell_type": "code",
   "execution_count": 13,
   "metadata": {},
   "outputs": [
    {
     "data": {
      "text/html": [
       "<div>\n",
       "<style scoped>\n",
       "    .dataframe tbody tr th:only-of-type {\n",
       "        vertical-align: middle;\n",
       "    }\n",
       "\n",
       "    .dataframe tbody tr th {\n",
       "        vertical-align: top;\n",
       "    }\n",
       "\n",
       "    .dataframe thead th {\n",
       "        text-align: right;\n",
       "    }\n",
       "</style>\n",
       "<table border=\"1\" class=\"dataframe\">\n",
       "  <thead>\n",
       "    <tr style=\"text-align: right;\">\n",
       "      <th></th>\n",
       "      <th>date</th>\n",
       "      <th>avgTemp</th>\n",
       "      <th>minTemp</th>\n",
       "      <th>maxTemp</th>\n",
       "      <th>rain</th>\n",
       "      <th>weekend</th>\n",
       "      <th>litres</th>\n",
       "    </tr>\n",
       "  </thead>\n",
       "  <tbody>\n",
       "    <tr>\n",
       "      <th>0</th>\n",
       "      <td>01-01-2015</td>\n",
       "      <td>27.30</td>\n",
       "      <td>23.9</td>\n",
       "      <td>32.5</td>\n",
       "      <td>0.0</td>\n",
       "      <td>0</td>\n",
       "      <td>25.461</td>\n",
       "    </tr>\n",
       "    <tr>\n",
       "      <th>1</th>\n",
       "      <td>02-01-2015</td>\n",
       "      <td>27.02</td>\n",
       "      <td>24.5</td>\n",
       "      <td>33.5</td>\n",
       "      <td>0.0</td>\n",
       "      <td>0</td>\n",
       "      <td>28.972</td>\n",
       "    </tr>\n",
       "    <tr>\n",
       "      <th>2</th>\n",
       "      <td>03-01-2015</td>\n",
       "      <td>24.82</td>\n",
       "      <td>22.4</td>\n",
       "      <td>29.9</td>\n",
       "      <td>0.0</td>\n",
       "      <td>1</td>\n",
       "      <td>30.814</td>\n",
       "    </tr>\n",
       "    <tr>\n",
       "      <th>3</th>\n",
       "      <td>04-01-2015</td>\n",
       "      <td>23.98</td>\n",
       "      <td>21.5</td>\n",
       "      <td>28.6</td>\n",
       "      <td>1.2</td>\n",
       "      <td>1</td>\n",
       "      <td>29.799</td>\n",
       "    </tr>\n",
       "    <tr>\n",
       "      <th>4</th>\n",
       "      <td>05-01-2015</td>\n",
       "      <td>23.82</td>\n",
       "      <td>21.0</td>\n",
       "      <td>28.3</td>\n",
       "      <td>0.0</td>\n",
       "      <td>0</td>\n",
       "      <td>28.9</td>\n",
       "    </tr>\n",
       "  </tbody>\n",
       "</table>\n",
       "</div>"
      ],
      "text/plain": [
       "         date  avgTemp  minTemp  maxTemp  rain  weekend  litres\n",
       "0  01-01-2015    27.30     23.9     32.5   0.0        0  25.461\n",
       "1  02-01-2015    27.02     24.5     33.5   0.0        0  28.972\n",
       "2  03-01-2015    24.82     22.4     29.9   0.0        1  30.814\n",
       "3  04-01-2015    23.98     21.5     28.6   1.2        1  29.799\n",
       "4  05-01-2015    23.82     21.0     28.3   0.0        0    28.9"
      ]
     },
     "execution_count": 13,
     "metadata": {},
     "output_type": "execute_result"
    }
   ],
   "source": [
    "dataset.head()"
   ]
  },
  {
   "cell_type": "code",
   "execution_count": 14,
   "metadata": {},
   "outputs": [],
   "source": [
    "dataset[\"litres\"] = dataset[\"litres\"].astype(float)\n",
    "dataset = dataset.dropna()"
   ]
  },
  {
   "cell_type": "code",
   "execution_count": 15,
   "metadata": {},
   "outputs": [
    {
     "data": {
      "text/plain": [
       "date        object\n",
       "avgTemp    float64\n",
       "minTemp    float64\n",
       "maxTemp    float64\n",
       "rain       float64\n",
       "weekend      int64\n",
       "litres     float64\n",
       "dtype: object"
      ]
     },
     "execution_count": 15,
     "metadata": {},
     "output_type": "execute_result"
    }
   ],
   "source": [
    "dataset.dtypes"
   ]
  },
  {
   "cell_type": "code",
   "execution_count": 16,
   "metadata": {},
   "outputs": [
    {
     "data": {
      "text/html": [
       "<div>\n",
       "<style scoped>\n",
       "    .dataframe tbody tr th:only-of-type {\n",
       "        vertical-align: middle;\n",
       "    }\n",
       "\n",
       "    .dataframe tbody tr th {\n",
       "        vertical-align: top;\n",
       "    }\n",
       "\n",
       "    .dataframe thead th {\n",
       "        text-align: right;\n",
       "    }\n",
       "</style>\n",
       "<table border=\"1\" class=\"dataframe\">\n",
       "  <thead>\n",
       "    <tr style=\"text-align: right;\">\n",
       "      <th></th>\n",
       "      <th>avgTemp</th>\n",
       "      <th>minTemp</th>\n",
       "      <th>maxTemp</th>\n",
       "      <th>rain</th>\n",
       "      <th>weekend</th>\n",
       "      <th>litres</th>\n",
       "    </tr>\n",
       "  </thead>\n",
       "  <tbody>\n",
       "    <tr>\n",
       "      <th>count</th>\n",
       "      <td>365.000000</td>\n",
       "      <td>365.000000</td>\n",
       "      <td>365.000000</td>\n",
       "      <td>365.000000</td>\n",
       "      <td>365.000000</td>\n",
       "      <td>365.000000</td>\n",
       "    </tr>\n",
       "    <tr>\n",
       "      <th>mean</th>\n",
       "      <td>21.226356</td>\n",
       "      <td>17.461370</td>\n",
       "      <td>26.611507</td>\n",
       "      <td>5.196712</td>\n",
       "      <td>0.284932</td>\n",
       "      <td>25.401367</td>\n",
       "    </tr>\n",
       "    <tr>\n",
       "      <th>std</th>\n",
       "      <td>3.180108</td>\n",
       "      <td>2.826185</td>\n",
       "      <td>4.317366</td>\n",
       "      <td>12.417844</td>\n",
       "      <td>0.452001</td>\n",
       "      <td>4.399143</td>\n",
       "    </tr>\n",
       "    <tr>\n",
       "      <th>min</th>\n",
       "      <td>12.900000</td>\n",
       "      <td>10.600000</td>\n",
       "      <td>14.500000</td>\n",
       "      <td>0.000000</td>\n",
       "      <td>0.000000</td>\n",
       "      <td>14.343000</td>\n",
       "    </tr>\n",
       "    <tr>\n",
       "      <th>25%</th>\n",
       "      <td>19.020000</td>\n",
       "      <td>15.300000</td>\n",
       "      <td>23.800000</td>\n",
       "      <td>0.000000</td>\n",
       "      <td>0.000000</td>\n",
       "      <td>22.008000</td>\n",
       "    </tr>\n",
       "    <tr>\n",
       "      <th>50%</th>\n",
       "      <td>21.380000</td>\n",
       "      <td>17.900000</td>\n",
       "      <td>26.900000</td>\n",
       "      <td>0.000000</td>\n",
       "      <td>0.000000</td>\n",
       "      <td>24.867000</td>\n",
       "    </tr>\n",
       "    <tr>\n",
       "      <th>75%</th>\n",
       "      <td>23.280000</td>\n",
       "      <td>19.600000</td>\n",
       "      <td>29.400000</td>\n",
       "      <td>3.200000</td>\n",
       "      <td>1.000000</td>\n",
       "      <td>28.631000</td>\n",
       "    </tr>\n",
       "    <tr>\n",
       "      <th>max</th>\n",
       "      <td>28.860000</td>\n",
       "      <td>24.500000</td>\n",
       "      <td>36.500000</td>\n",
       "      <td>94.800000</td>\n",
       "      <td>1.000000</td>\n",
       "      <td>37.937000</td>\n",
       "    </tr>\n",
       "  </tbody>\n",
       "</table>\n",
       "</div>"
      ],
      "text/plain": [
       "          avgTemp     minTemp     maxTemp        rain     weekend      litres\n",
       "count  365.000000  365.000000  365.000000  365.000000  365.000000  365.000000\n",
       "mean    21.226356   17.461370   26.611507    5.196712    0.284932   25.401367\n",
       "std      3.180108    2.826185    4.317366   12.417844    0.452001    4.399143\n",
       "min     12.900000   10.600000   14.500000    0.000000    0.000000   14.343000\n",
       "25%     19.020000   15.300000   23.800000    0.000000    0.000000   22.008000\n",
       "50%     21.380000   17.900000   26.900000    0.000000    0.000000   24.867000\n",
       "75%     23.280000   19.600000   29.400000    3.200000    1.000000   28.631000\n",
       "max     28.860000   24.500000   36.500000   94.800000    1.000000   37.937000"
      ]
     },
     "execution_count": 16,
     "metadata": {},
     "output_type": "execute_result"
    }
   ],
   "source": [
    "dataset.describe()"
   ]
  },
  {
   "cell_type": "code",
   "execution_count": 17,
   "metadata": {},
   "outputs": [
    {
     "name": "stderr",
     "output_type": "stream",
     "text": [
      "/home/negi/negi/lib/python3.5/site-packages/scipy/stats/stats.py:1713: FutureWarning: Using a non-tuple sequence for multidimensional indexing is deprecated; use `arr[tuple(seq)]` instead of `arr[seq]`. In the future this will be interpreted as an array index, `arr[np.array(seq)]`, which will result either in an error or a different result.\n",
      "  return np.add.reduce(sorted[indexer] * weights, axis=axis) / sumval\n"
     ]
    },
    {
     "data": {
      "text/plain": [
       "<matplotlib.axes._subplots.AxesSubplot at 0x7f19567f6320>"
      ]
     },
     "execution_count": 17,
     "metadata": {},
     "output_type": "execute_result"
    },
    {
     "data": {
      "image/png": "[encoded data removed]",
      "text/plain": [
       "<Figure size 432x288 with 1 Axes>"
      ]
     },
     "metadata": {
      "needs_background": "light"
     },
     "output_type": "display_data"
    }
   ],
   "source": [
    "sns.distplot(dataset['litres'],bins=30)"
   ]
  },
  {
   "cell_type": "code",
   "execution_count": 18,
   "metadata": {},
   "outputs": [
    {
     "data": {
      "text/plain": [
       "<matplotlib.axes._subplots.AxesSubplot at 0x7f19567f27f0>"
      ]
     },
     "execution_count": 18,
     "metadata": {},
     "output_type": "execute_result"
    },
    {
     "data": {
      "image/png": "[encoded data removed]",
      "text/plain": [
       "<Figure size 432x288 with 1 Axes>"
      ]
     },
     "metadata": {
      "needs_background": "light"
     },
     "output_type": "display_data"
    }
   ],
   "source": [
    "dataset.plot(x=\"maxTemp\",y=\"litres\",title=\"who will consume max amt of beer\",kind = \"scatter\", marker=\"v\",color=\"darkred\")"
   ]
  },
  {
   "cell_type": "code",
   "execution_count": 19,
   "metadata": {},
   "outputs": [
    {
     "data": {
      "text/plain": [
       "Text(0, 0.5, 'litres')"
      ]
     },
     "execution_count": 19,
     "metadata": {},
     "output_type": "execute_result"
    },
    {
     "data": {
      "image/png": "[encoded data removed]",
      "text/plain": [
       "<Figure size 1440x720 with 1 Axes>"
      ]
     },
     "metadata": {
      "needs_background": "light"
     },
     "output_type": "display_data"
    }
   ],
   "source": [
    "plt.figure(figsize=(20,10))\n",
    "plt.subplot(2, 2, 1)\n",
    "plt.scatter( 'avgTemp', 'litres', data=dataset, marker='*', color='red', linewidth=1)\n",
    "plt.xlabel(\"Average temperature\")\n",
    "plt.ylabel(\"litres\")"
   ]
  },
  {
   "cell_type": "code",
   "execution_count": 20,
   "metadata": {},
   "outputs": [
    {
     "data": {
      "text/plain": [
       "Text(0, 0.5, 'litres')"
      ]
     },
     "execution_count": 20,
     "metadata": {},
     "output_type": "execute_result"
    },
    {
     "data": {
      "image/png": "[encoded data removed]",
      "text/plain": [
       "<Figure size 1440x720 with 1 Axes>"
      ]
     },
     "metadata": {
      "needs_background": "light"
     },
     "output_type": "display_data"
    }
   ],
   "source": [
    "plt.figure(figsize=(20,10))\n",
    "plt.subplot(2, 2, 1)\n",
    "plt.scatter( 'minTemp', 'litres', data=dataset, marker=',', color='blue', linewidth=1)\n",
    "plt.xlabel(\"min temperature\")\n",
    "plt.ylabel(\"litres\")"
   ]
  },
  {
   "cell_type": "code",
   "execution_count": 21,
   "metadata": {},
   "outputs": [
    {
     "data": {
      "text/plain": [
       "Text(0, 0.5, 'litres')"
      ]
     },
     "execution_count": 21,
     "metadata": {},
     "output_type": "execute_result"
    },
    {
     "data": {
      "image/png": "[encoded data removed]",
      "text/plain": [
       "<Figure size 1440x720 with 1 Axes>"
      ]
     },
     "metadata": {
      "needs_background": "light"
     },
     "output_type": "display_data"
    }
   ],
   "source": [
    "plt.figure(figsize=(20,10))\n",
    "plt.subplot(2, 2, 1)\n",
    "plt.scatter( 'rain', 'litres', data=dataset, marker='o', color='pink', linewidth=1)\n",
    "plt.xlabel(\"min temperature\")\n",
    "plt.ylabel(\"litres\")"
   ]
  },
  {
   "cell_type": "code",
   "execution_count": 22,
   "metadata": {},
   "outputs": [
    {
     "data": {
      "text/plain": [
       "Text(0, 0.5, 'litres')"
      ]
     },
     "execution_count": 22,
     "metadata": {},
     "output_type": "execute_result"
    },
    {
     "data": {
      "image/png": "[encoded data removed]",
      "text/plain": [
       "<Figure size 1440x720 with 1 Axes>"
      ]
     },
     "metadata": {
      "needs_background": "light"
     },
     "output_type": "display_data"
    }
   ],
   "source": [
    "plt.figure(figsize=(20,10))\n",
    "plt.subplot(2, 2, 1)\n",
    "plt.scatter( 'weekend', 'litres', data=dataset, marker='.', color='brown', linewidth=1)\n",
    "plt.xlabel(\"min temperature\")\n",
    "plt.ylabel(\"litres\")"
   ]
  },
  {
   "cell_type": "code",
   "execution_count": 23,
   "metadata": {},
   "outputs": [
    {
     "data": {
      "text/plain": [
       "2555"
      ]
     },
     "execution_count": 23,
     "metadata": {},
     "output_type": "execute_result"
    }
   ],
   "source": [
    "dataset.size"
   ]
  },
  {
   "cell_type": "code",
   "execution_count": 24,
   "metadata": {},
   "outputs": [
    {
     "data": {
      "text/plain": [
       "(365, 7)"
      ]
     },
     "execution_count": 24,
     "metadata": {},
     "output_type": "execute_result"
    }
   ],
   "source": [
    "dataset.shape"
   ]
  },
  {
   "cell_type": "code",
   "execution_count": 25,
   "metadata": {},
   "outputs": [],
   "source": [
    "del dataset['date']"
   ]
  },
  {
   "cell_type": "code",
   "execution_count": 26,
   "metadata": {},
   "outputs": [
    {
     "data": {
      "text/html": [
       "<div>\n",
       "<style scoped>\n",
       "    .dataframe tbody tr th:only-of-type {\n",
       "        vertical-align: middle;\n",
       "    }\n",
       "\n",
       "    .dataframe tbody tr th {\n",
       "        vertical-align: top;\n",
       "    }\n",
       "\n",
       "    .dataframe thead th {\n",
       "        text-align: right;\n",
       "    }\n",
       "</style>\n",
       "<table border=\"1\" class=\"dataframe\">\n",
       "  <thead>\n",
       "    <tr style=\"text-align: right;\">\n",
       "      <th></th>\n",
       "      <th>avgTemp</th>\n",
       "      <th>minTemp</th>\n",
       "      <th>maxTemp</th>\n",
       "      <th>rain</th>\n",
       "      <th>weekend</th>\n",
       "      <th>litres</th>\n",
       "    </tr>\n",
       "  </thead>\n",
       "  <tbody>\n",
       "    <tr>\n",
       "      <th>0</th>\n",
       "      <td>27.30</td>\n",
       "      <td>23.9</td>\n",
       "      <td>32.5</td>\n",
       "      <td>0.0</td>\n",
       "      <td>0</td>\n",
       "      <td>25.461</td>\n",
       "    </tr>\n",
       "    <tr>\n",
       "      <th>1</th>\n",
       "      <td>27.02</td>\n",
       "      <td>24.5</td>\n",
       "      <td>33.5</td>\n",
       "      <td>0.0</td>\n",
       "      <td>0</td>\n",
       "      <td>28.972</td>\n",
       "    </tr>\n",
       "    <tr>\n",
       "      <th>2</th>\n",
       "      <td>24.82</td>\n",
       "      <td>22.4</td>\n",
       "      <td>29.9</td>\n",
       "      <td>0.0</td>\n",
       "      <td>1</td>\n",
       "      <td>30.814</td>\n",
       "    </tr>\n",
       "    <tr>\n",
       "      <th>3</th>\n",
       "      <td>23.98</td>\n",
       "      <td>21.5</td>\n",
       "      <td>28.6</td>\n",
       "      <td>1.2</td>\n",
       "      <td>1</td>\n",
       "      <td>29.799</td>\n",
       "    </tr>\n",
       "    <tr>\n",
       "      <th>4</th>\n",
       "      <td>23.82</td>\n",
       "      <td>21.0</td>\n",
       "      <td>28.3</td>\n",
       "      <td>0.0</td>\n",
       "      <td>0</td>\n",
       "      <td>28.900</td>\n",
       "    </tr>\n",
       "  </tbody>\n",
       "</table>\n",
       "</div>"
      ],
      "text/plain": [
       "   avgTemp  minTemp  maxTemp  rain  weekend  litres\n",
       "0    27.30     23.9     32.5   0.0        0  25.461\n",
       "1    27.02     24.5     33.5   0.0        0  28.972\n",
       "2    24.82     22.4     29.9   0.0        1  30.814\n",
       "3    23.98     21.5     28.6   1.2        1  29.799\n",
       "4    23.82     21.0     28.3   0.0        0  28.900"
      ]
     },
     "execution_count": 26,
     "metadata": {},
     "output_type": "execute_result"
    }
   ],
   "source": [
    "dataset.head()"
   ]
  },
  {
   "cell_type": "code",
   "execution_count": 27,
   "metadata": {},
   "outputs": [],
   "source": [
    "from sklearn.preprocessing import MinMaxScaler\n",
    "from sklearn.model_selection import train_test_split"
   ]
  },
  {
   "cell_type": "code",
   "execution_count": 28,
   "metadata": {},
   "outputs": [
    {
     "name": "stdout",
     "output_type": "stream",
     "text": [
      "     maxTemp  weekend\n",
      "0       32.5        0\n",
      "1       33.5        0\n",
      "2       29.9        1\n",
      "3       28.6        1\n",
      "4       28.3        0\n",
      "5       30.5        0\n",
      "6       33.7        0\n",
      "7       32.8        0\n",
      "8       34.0        0\n",
      "9       34.2        1\n",
      "10      34.8        1\n",
      "11      35.4        0\n",
      "12      34.8        0\n",
      "13      34.0        0\n",
      "14      32.8        0\n",
      "15      32.7        0\n",
      "16      35.8        1\n",
      "17      35.6        1\n",
      "18      36.5        0\n",
      "19      35.6        0\n",
      "20      30.9        0\n",
      "21      26.1        0\n",
      "22      26.1        0\n",
      "23      29.4        1\n",
      "24      30.0        1\n",
      "25      28.7        0\n",
      "26      28.7        0\n",
      "27      29.9        0\n",
      "28      29.2        0\n",
      "29      26.9        0\n",
      "..       ...      ...\n",
      "335     29.4        0\n",
      "336     26.1        0\n",
      "337     29.1        0\n",
      "338     30.6        1\n",
      "339     28.0        1\n",
      "340     23.9        0\n",
      "341     28.0        0\n",
      "342     27.9        0\n",
      "343     27.7        0\n",
      "344     30.3        0\n",
      "345     30.8        1\n",
      "346     31.0        1\n",
      "347     32.5        0\n",
      "348     32.8        0\n",
      "349     24.8        0\n",
      "350     28.7        0\n",
      "351     33.5        0\n",
      "352     31.3        1\n",
      "353     29.0        1\n",
      "354     29.1        0\n",
      "355     32.4        0\n",
      "356     32.4        0\n",
      "357     31.5        0\n",
      "358     31.0        0\n",
      "359     29.8        1\n",
      "360     28.2        1\n",
      "361     26.7        0\n",
      "362     24.1        0\n",
      "363     22.4        0\n",
      "364     29.0        0\n",
      "\n",
      "[365 rows x 2 columns]\n",
      "0      25.461\n",
      "1      28.972\n",
      "2      30.814\n",
      "3      29.799\n",
      "4      28.900\n",
      "5      28.218\n",
      "6      29.732\n",
      "7      28.397\n",
      "8      24.886\n",
      "9      37.937\n",
      "10     36.254\n",
      "11     25.743\n",
      "12     26.990\n",
      "13     31.825\n",
      "14     25.724\n",
      "15     29.938\n",
      "16     37.690\n",
      "17     30.524\n",
      "18     29.265\n",
      "19     35.127\n",
      "20     29.130\n",
      "21     25.795\n",
      "22     21.784\n",
      "23     28.348\n",
      "24     31.088\n",
      "25     21.520\n",
      "26     29.972\n",
      "27     22.603\n",
      "28     22.696\n",
      "29     26.845\n",
      "        ...  \n",
      "335    30.471\n",
      "336    28.405\n",
      "337    29.513\n",
      "338    32.451\n",
      "339    32.780\n",
      "340    23.375\n",
      "341    27.713\n",
      "342    27.137\n",
      "343    22.933\n",
      "344    30.740\n",
      "345    29.579\n",
      "346    29.188\n",
      "347    28.131\n",
      "348    28.617\n",
      "349    21.062\n",
      "350    24.337\n",
      "351    27.042\n",
      "352    32.536\n",
      "353    30.127\n",
      "354    24.834\n",
      "355    26.828\n",
      "356    26.468\n",
      "357    31.572\n",
      "358    26.308\n",
      "359    21.955\n",
      "360    32.307\n",
      "361    26.095\n",
      "362    22.309\n",
      "363    20.467\n",
      "364    22.446\n",
      "Name: litres, Length: 365, dtype: float64\n"
     ]
    }
   ],
   "source": [
    "X = dataset[['maxTemp','weekend']]\n",
    "print(X)\n",
    "y = dataset.litres\n",
    "print(y)"
   ]
  },
  {
   "cell_type": "code",
   "execution_count": 29,
   "metadata": {},
   "outputs": [
    {
     "name": "stdout",
     "output_type": "stream",
     "text": [
      "(255, 2)\n",
      "(110, 2)\n",
      "(255,)\n",
      "(110,)\n"
     ]
    }
   ],
   "source": [
    "from sklearn.model_selection import train_test_split\n",
    "X_train, X_test, y_train, y_test = train_test_split(X, y, test_size = 0.3, random_state=5)\n",
    "print(X_train.shape)\n",
    "print(X_test.shape)\n",
    "print(y_train.shape)\n",
    "print(y_test.shape)"
   ]
  },
  {
   "cell_type": "code",
   "execution_count": 30,
   "metadata": {},
   "outputs": [
    {
     "data": {
      "text/plain": [
       "LinearRegression(copy_X=True, fit_intercept=True, n_jobs=None,\n",
       "         normalize=False)"
      ]
     },
     "execution_count": 30,
     "metadata": {},
     "output_type": "execute_result"
    }
   ],
   "source": [
    "from sklearn.linear_model import LinearRegression\n",
    "from sklearn.metrics import mean_squared_error, r2_score\n",
    "lin_model = LinearRegression()\n",
    "lin_model.fit(X_train, y_train)"
   ]
  },
  {
   "cell_type": "code",
   "execution_count": 31,
   "metadata": {},
   "outputs": [],
   "source": [
    "predictions = lin_model.predict(X_test)"
   ]
  },
  {
   "cell_type": "code",
   "execution_count": 32,
   "metadata": {},
   "outputs": [
    {
     "data": {
      "text/plain": [
       "<matplotlib.collections.PathCollection at 0x7f19659d6b38>"
      ]
     },
     "execution_count": 32,
     "metadata": {},
     "output_type": "execute_result"
    },
    {
     "data": {
      "image/png": "[encoded data removed]",
      "text/plain": [
       "<Figure size 432x288 with 1 Axes>"
      ]
     },
     "metadata": {
      "needs_background": "light"
     },
     "output_type": "display_data"
    }
   ],
   "source": [
    "plt.scatter(y_test,predictions)"
   ]
  },
  {
   "cell_type": "code",
   "execution_count": 33,
   "metadata": {},
   "outputs": [
    {
     "name": "stdout",
     "output_type": "stream",
     "text": [
      "The model performance for training set\n",
      "--------------------------------------\n",
      "RMSE is 2.4053063535129975\n",
      "R2 score is 0.7158285669861145\n",
      "\n",
      "\n"
     ]
    }
   ],
   "source": [
    "y_train_predict = lin_model.predict(X_train)\n",
    "rmse = (np.sqrt(mean_squared_error(y_train, y_train_predict)))\n",
    "r2 = r2_score(y_train, y_train_predict)\n",
    "\n",
    "print(\"The model performance for training set\")\n",
    "print(\"--------------------------------------\")\n",
    "print('RMSE is {}'.format(rmse))\n",
    "print('R2 score is {}'.format(r2))\n",
    "print(\"\\n\")"
   ]
  },
  {
   "cell_type": "code",
   "execution_count": 34,
   "metadata": {},
   "outputs": [
    {
     "name": "stdout",
     "output_type": "stream",
     "text": [
      "The model performance for testing set\n",
      "--------------------------------------\n",
      "RMSE is 2.4632596987999995\n",
      "R2 score is 0.6397367455070367\n"
     ]
    }
   ],
   "source": [
    "y_test_predict = lin_model.predict(X_test)\n",
    "# root mean square error of the model\n",
    "rmse = (np.sqrt(mean_squared_error(y_test, y_test_predict)))\n",
    "\n",
    "# r-squared score of the model\n",
    "r2 = r2_score(y_test, y_test_predict)\n",
    "\n",
    "print(\"The model performance for testing set\")\n",
    "print(\"--------------------------------------\")\n",
    "print('RMSE is {}'.format(rmse))\n",
    "print('R2 score is {}'.format(r2))"
   ]
  },
  {
   "cell_type": "code",
   "execution_count": 35,
   "metadata": {},
   "outputs": [
    {
     "data": {
      "image/png": "[encoded data removed]",
      "text/plain": [
       "<Figure size 432x288 with 1 Axes>"
      ]
     },
     "metadata": {
      "needs_background": "light"
     },
     "output_type": "display_data"
    }
   ],
   "source": [
    "# plotting the y_test vs y_pred\n",
    "# ideally should have been a straight line\n",
    "plt.scatter(y_test, y_test_predict)\n",
    "plt.show()"
   ]
  },
  {
   "cell_type": "code",
   "execution_count": 36,
   "metadata": {},
   "outputs": [
    {
     "name": "stdout",
     "output_type": "stream",
     "text": [
      "5.6977658688613815\n"
     ]
    }
   ],
   "source": [
    "print(lin_model.intercept_)"
   ]
  },
  {
   "cell_type": "code",
   "execution_count": 37,
   "metadata": {},
   "outputs": [
    {
     "name": "stdout",
     "output_type": "stream",
     "text": [
      "[0.68273042 5.4047511 ]\n"
     ]
    }
   ],
   "source": [
    "print(lin_model.coef_)"
   ]
  },
  {
   "cell_type": "code",
   "execution_count": 38,
   "metadata": {},
   "outputs": [
    {
     "name": "stdout",
     "output_type": "stream",
     "text": [
      "         coefficient\n",
      "maxTemp     0.682730\n",
      "weekend     5.404751\n"
     ]
    }
   ],
   "source": [
    "df = pd.DataFrame(lin_model.coef_, X.columns, columns=['coefficient'])\n",
    "print(df)"
   ]
  },
  {
   "cell_type": "code",
   "execution_count": 39,
   "metadata": {},
   "outputs": [
    {
     "name": "stderr",
     "output_type": "stream",
     "text": [
      "/home/negi/negi/lib/python3.5/site-packages/seaborn/regression.py:546: UserWarning: The `size` paramter has been renamed to `height`; please update your code.\n",
      "  warnings.warn(msg, UserWarning)\n",
      "/home/negi/negi/lib/python3.5/site-packages/scipy/stats/stats.py:1713: FutureWarning: Using a non-tuple sequence for multidimensional indexing is deprecated; use `arr[tuple(seq)]` instead of `arr[seq]`. In the future this will be interpreted as an array index, `arr[np.array(seq)]`, which will result either in an error or a different result.\n",
      "  return np.add.reduce(sorted[indexer] * weights, axis=axis) / sumval\n"
     ]
    },
    {
     "data": {
      "text/plain": [
       "<seaborn.axisgrid.FacetGrid at 0x7f19542d7a58>"
      ]
     },
     "execution_count": 39,
     "metadata": {},
     "output_type": "execute_result"
    },
    {
     "data": {
      "image/png": "[encoded data removed]",
      "text/plain": [
       "<Figure size 576x144 with 1 Axes>"
      ]
     },
     "metadata": {
      "needs_background": "light"
     },
     "output_type": "display_data"
    }
   ],
   "source": [
    "sns.lmplot(x='maxTemp',y='litres',size=2,aspect=4,data=dataset)"
   ]
  },
  {
   "cell_type": "code",
   "execution_count": 40,
   "metadata": {},
   "outputs": [],
   "source": [
    "from sklearn import metrics"
   ]
  },
  {
   "cell_type": "code",
   "execution_count": 41,
   "metadata": {},
   "outputs": [
    {
     "name": "stdout",
     "output_type": "stream",
     "text": [
      "MAE: 2.084270224214272\n",
      "MSE: 6.067648343732263\n",
      "RMSE: 2.4632596987999995\n"
     ]
    }
   ],
   "source": [
    "print('MAE:', metrics.mean_absolute_error(y_test, predictions))\n",
    "print('MSE:', metrics.mean_squared_error(y_test, predictions))\n",
    "print('RMSE:', np.sqrt(metrics.mean_squared_error(y_test, predictions)))"
   ]
  },
  {
   "cell_type": "code",
   "execution_count": 42,
   "metadata": {},
   "outputs": [],
   "source": [
    "q = dataset.litres"
   ]
  },
  {
   "cell_type": "code",
   "execution_count": 43,
   "metadata": {},
   "outputs": [
    {
     "data": {
      "text/plain": [
       "24.862    3\n",
       "22.933    2\n",
       "24.227    2\n",
       "26.594    2\n",
       "25.343    2\n",
       "30.825    1\n",
       "24.867    1\n",
       "28.405    1\n",
       "26.805    1\n",
       "24.388    1\n",
       "35.861    1\n",
       "25.070    1\n",
       "22.039    1\n",
       "29.267    1\n",
       "31.825    1\n",
       "22.008    1\n",
       "30.300    1\n",
       "26.467    1\n",
       "21.092    1\n",
       "21.073    1\n",
       "22.032    1\n",
       "24.679    1\n",
       "31.129    1\n",
       "32.589    1\n",
       "20.167    1\n",
       "28.411    1\n",
       "29.760    1\n",
       "26.990    1\n",
       "28.348    1\n",
       "24.834    1\n",
       "         ..\n",
       "33.822    1\n",
       "23.357    1\n",
       "25.850    1\n",
       "27.594    1\n",
       "30.617    1\n",
       "20.464    1\n",
       "27.042    1\n",
       "26.272    1\n",
       "33.930    1\n",
       "17.731    1\n",
       "30.392    1\n",
       "21.826    1\n",
       "29.799    1\n",
       "22.309    1\n",
       "23.469    1\n",
       "28.441    1\n",
       "21.735    1\n",
       "34.382    1\n",
       "31.655    1\n",
       "21.827    1\n",
       "26.275    1\n",
       "31.139    1\n",
       "29.265    1\n",
       "25.692    1\n",
       "31.933    1\n",
       "22.409    1\n",
       "28.900    1\n",
       "27.475    1\n",
       "26.311    1\n",
       "27.250    1\n",
       "Name: litres, Length: 359, dtype: int64"
      ]
     },
     "execution_count": 43,
     "metadata": {},
     "output_type": "execute_result"
    }
   ],
   "source": [
    "dataset.litres.value_counts()"
   ]
  },
  {
   "cell_type": "code",
   "execution_count": 44,
   "metadata": {},
   "outputs": [
    {
     "name": "stdout",
     "output_type": "stream",
     "text": [
      "0    261\n",
      "1    104\n",
      "Name: weekend, dtype: int64\n"
     ]
    }
   ],
   "source": [
    "a = dataset.weekend.value_counts()\n",
    "print(a)"
   ]
  }
 ],
 "metadata": {
  "kernelspec": {
   "display_name": "Python 3",
   "language": "python",
   "name": "python3"
  },
  "language_info": {
   "codemirror_mode": {
    "name": "ipython",
    "version": 3
   },
   "file_extension": ".py",
   "mimetype": "text/x-python",
   "name": "python",
   "nbconvert_exporter": "python",
   "pygments_lexer": "ipython3",
   "version": "3.5.2"
  }
 },
 "nbformat": 4,
 "nbformat_minor": 2
}
